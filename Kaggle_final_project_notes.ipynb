{
  "nbformat": 4,
  "nbformat_minor": 0,
  "metadata": {
    "colab": {
      "name": "Kaggle_final_project_notes.ipynb",
      "provenance": [],
      "authorship_tag": "ABX9TyPKdEhHRP93uzLcoqw3pQpD",
      "include_colab_link": true
    },
    "kernelspec": {
      "name": "python3",
      "display_name": "Python 3"
    }
  },
  "cells": [
    {
      "cell_type": "markdown",
      "metadata": {
        "id": "view-in-github",
        "colab_type": "text"
      },
      "source": [
        "<a href=\"https://colab.research.google.com/github/kuoatroundrock/articles/blob/master/Kaggle_final_project_notes.ipynb\" target=\"_parent\"><img src=\"https://colab.research.google.com/assets/colab-badge.svg\" alt=\"Open In Colab\"/></a>"
      ]
    },
    {
      "cell_type": "code",
      "metadata": {
        "id": "HEvHb_ndstWU",
        "colab_type": "code",
        "colab": {}
      },
      "source": [
        ""
      ],
      "execution_count": 0,
      "outputs": []
    },
    {
      "cell_type": "markdown",
      "metadata": {
        "id": "KV_Wbz3Ts8KX",
        "colab_type": "text"
      },
      "source": [
        "[Pandas groupby tutorial](https://www.shanelynn.ie/summarising-aggregation-and-grouping-data-in-python-pandas/)"
      ]
    },
    {
      "cell_type": "code",
      "metadata": {
        "id": "rqCiOXAftBo5",
        "colab_type": "code",
        "colab": {}
      },
      "source": [
        ""
      ],
      "execution_count": 0,
      "outputs": []
    }
  ]
}